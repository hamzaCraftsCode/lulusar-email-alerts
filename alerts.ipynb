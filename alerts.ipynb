{
 "cells": [
  {
   "cell_type": "code",
   "execution_count": 7,
   "metadata": {},
   "outputs": [],
   "source": [
    "import smtplib\n",
    "from email.mime.multipart import MIMEMultipart\n",
    "from email.mime.text import MIMEText\n",
    "import os\n",
    "import yaml"
   ]
  },
  {
   "cell_type": "code",
   "execution_count": 8,
   "metadata": {},
   "outputs": [],
   "source": [
    "# Function to read YAML file\n",
    "def read_yaml(file_path):\n",
    "    with open(file_path, 'r') as file:\n",
    "        data = yaml.safe_load(file)\n",
    "    return data"
   ]
  },
  {
   "cell_type": "code",
   "execution_count": 9,
   "metadata": {},
   "outputs": [],
   "source": [
    "# Path to your YAML file\n",
    "yaml_file = 'config.yaml'\n",
    "\n",
    "# Read the YAML file\n",
    "config = read_yaml(yaml_file)\n",
    "\n",
    "# Access the YAML data\n",
    "password = config.get('PASSWORD')\n",
    "sender_email = config.get('EMAIL')\n",
    "ALERTS_ENABLED = True"
   ]
  },
  {
   "cell_type": "code",
   "execution_count": null,
   "metadata": {},
   "outputs": [],
   "source": [
    "if ALERTS_ENABLED:\n",
    "    send_email(\"Subject\", \"Body\", ['syed,hamza@data-pilot.com', 'usman@data-pilot.com'])"
   ]
  },
  {
   "cell_type": "code",
   "execution_count": null,
   "metadata": {},
   "outputs": [],
   "source": [
    "def send_email(subject, body, recipients):\n",
    "    \"\"\"Sends an email to multiple recipients.\"\"\"\n",
    "    smtp_server = \"smtp.gmail.com\"\n",
    "    smtp_port = 587\n",
    "\n",
    "    # Ensure recipients is a list\n",
    "    if not isinstance(recipients, list):\n",
    "        recipients = [recipients]\n",
    "\n",
    "    recipient_string = ', '.join(recipients)\n",
    "    msg = MIMEMultipart()\n",
    "    msg['From'] = sender_email\n",
    "    msg['To'] = recipient_string\n",
    "    msg['Subject'] = subject\n",
    "    msg.attach(MIMEText(body, 'plain'))\n",
    "\n",
    "    try:\n",
    "        server = smtplib.SMTP(smtp_server, smtp_port)\n",
    "        server.starttls()\n",
    "        server.login(sender_email, password)\n",
    "        server.sendmail(sender_email, recipients, msg.as_string())\n",
    "        server.quit()\n",
    "        print(\"Email sent successfully.\")\n",
    "    except Exception as e:\n",
    "        print(f\"Failed to send email: {e}\")"
   ]
  },
  {
   "cell_type": "markdown",
   "metadata": {},
   "source": [
    "##### subject --> Email subject e,g Alert Facebook - Data Load Empty\n",
    "##### body --> Message body e.g data fetched size is 0 (zero)\n",
    "##### recipients --> List of recipients, hardcoded\n",
    "##### sender_email --> Email id from which the mail will be sent e.g tech@data-pilot.com\n",
    "##### password --> Password for the sender_email"
   ]
  },
  {
   "cell_type": "markdown",
   "metadata": {},
   "source": []
  }
 ],
 "metadata": {
  "kernelspec": {
   "display_name": "Python 3",
   "language": "python",
   "name": "python3"
  },
  "language_info": {
   "codemirror_mode": {
    "name": "ipython",
    "version": 3
   },
   "file_extension": ".py",
   "mimetype": "text/x-python",
   "name": "python",
   "nbconvert_exporter": "python",
   "pygments_lexer": "ipython3",
   "version": "3.12.4"
  }
 },
 "nbformat": 4,
 "nbformat_minor": 2
}
